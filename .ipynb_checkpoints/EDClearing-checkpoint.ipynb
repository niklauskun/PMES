{
 "cells": [
  {
   "cell_type": "code",
   "execution_count": 12,
   "id": "7096951a-cbe7-4abc-9591-1826bf86c59d",
   "metadata": {},
   "outputs": [
    {
     "name": "stdout",
     "output_type": "stream",
     "text": [
      "Current installed solvers:  ['CLARABEL', 'ECOS', 'ECOS_BB', 'GUROBI', 'OSQP', 'SCIPY', 'SCS']\n"
     ]
    }
   ],
   "source": [
    "import pandas as pd\n",
    "import numpy as np\n",
    "import cvxpy as cp\n",
    "import matplotlib.pyplot as plt\n",
    "import time\n",
    "import tensorflow as tf\n",
    "import math\n",
    "\n",
    "\n",
    "# Print the installed solver to see if GUROBI is installed correctly\n",
    "print(\"Current installed solvers: \", cp.installed_solvers())"
   ]
  },
  {
   "cell_type": "code",
   "execution_count": 19,
   "id": "aac85c60-a4fb-4e4b-93b3-f8bf2e5b0768",
   "metadata": {},
   "outputs": [],
   "source": [
    "# Load the data\n",
    "load_data = pd.read_csv('data/CAISO_Load_2022.csv', usecols=['net_load']).values.flatten()\n",
    "thermal_gen_data = pd.read_csv('data/thermal_gen_offer.csv', usecols=['capacity_MW', 'energy_price'])"
   ]
  },
  {
   "cell_type": "code",
   "execution_count": 91,
   "id": "230d8d30-3963-4748-b994-6e896e82cc3f",
   "metadata": {},
   "outputs": [],
   "source": [
    "# Parameters\n",
    "num_days = 2\n",
    "num_steps = 288\n",
    "num_intervals = 12\n",
    "P = 10_000  # Total storage capacity in MW\n",
    "E = 40_000  # Total storage capacity in MWh\n",
    "eta = 0.9  # Storage one-way efficiency\n",
    "C_s = 20.0  # Storage marginal discharge cost\n",
    "\n",
    "# Generator data \n",
    "P_g = thermal_gen_data['capacity_MW'].values # Thermal generator capacities (MW)\n",
    "C_g = thermal_gen_data['energy_price'].values # Thermal generator offer ($/MW)\n",
    "\n",
    "# Storage segment data\n",
    "num_seg = 5\n",
    "\n",
    "# Reshape load data for num_days of num_steps\n",
    "load = load_data[0:num_days*num_steps].reshape((num_days, num_steps)) # Net load profile\n",
    "\n",
    "# Number of generators\n",
    "num_gen = len(P_g)"
   ]
  },
  {
   "cell_type": "code",
   "execution_count": 26,
   "id": "26527728-b5c0-41ad-9e73-ebe395b575d0",
   "metadata": {},
   "outputs": [],
   "source": [
    "# Function to solve the optimization problem for a single day\n",
    "def solve_daily_optimization(L, P_g, C_g, P, E, eta, C_s, E0, num_intervals):\n",
    "    # Variables\n",
    "    p = cp.Variable((num_steps, num_gen))  # Power generation by each generator\n",
    "    c = cp.Variable(num_steps)             # Power charge by storage\n",
    "    d = cp.Variable(num_steps)             # Power discharge by storage\n",
    "    e = cp.Variable(num_steps)             # State of Charge (SoC) of storage\n",
    "\n",
    "    # Constraints\n",
    "    constraints = []\n",
    "\n",
    "    # Generator capacity constraints\n",
    "    for g in range(num_gen):\n",
    "        constraints += [p[:, g] >= 0,\n",
    "                        p[:, g] <= P_g[g]]\n",
    "\n",
    "    # Storage constraints\n",
    "    constraints += [c >= 0,\n",
    "                    c <= P,\n",
    "                    d >= 0,\n",
    "                    d <= P]\n",
    "\n",
    "    # SoC constraints\n",
    "    constraints += [e[0] == E0 + eta * c[0] - d[0] / eta]\n",
    "    for t in range(1, num_steps):\n",
    "        constraints += [e[t] == e[t-1] + eta * c[t] - d[t] / eta]\n",
    "        \n",
    "    constraints += [e >= 0, e <= E]\n",
    "\n",
    "    # End of day SoC constraint\n",
    "    constraints += [e[-1] == E / 2]  # End SoC is 50%\n",
    "\n",
    "    # Balance constraints and capture dual variables\n",
    "    balance_constraints = []\n",
    "    for t in range(num_steps):\n",
    "        balance_constraint = cp.sum(p[t, :]) + d[t] == L[t] + c[t]\n",
    "        constraints += [balance_constraint]\n",
    "        balance_constraints.append(balance_constraint)\n",
    "\n",
    "    # Objective: Minimize system cost\n",
    "    cost = (cp.sum(cp.multiply(p, C_g.reshape(1, -1))) + cp.sum(C_s * d))/ num_intervals\n",
    "    objective = cp.Minimize(cost)\n",
    "\n",
    "    # Problem definition\n",
    "    problem = cp.Problem(objective, constraints)\n",
    "\n",
    "    # Solve the problem using Gurobi if available, otherwise use a different solver\n",
    "    start_time = time.time()\n",
    "    try:\n",
    "        problem.solve(solver=cp.GUROBI, verbose=False, reoptimize=True)\n",
    "        dual_prices = [balance_constraint.dual_value * -num_intervals for balance_constraint in balance_constraints]  # Extract dual values\n",
    "    except cp.SolverError:\n",
    "        print(\"Gurobi not available. Falling back to a different solver.\")\n",
    "        problem.solve(solver=cp.ECOS, verbose=False)  # You can use ECOS, SCS, or another solve\n",
    "        dual_prices = [balance_constraint.dual_value  * -num_intervals for balance_constraint in balance_constraints]  # Extract dual values\n",
    "    end_time = time.time()\n",
    "\n",
    "    return problem.value, p.value, c.value, d.value, e.value, dual_prices, end_time - start_time"
   ]
  },
  {
   "cell_type": "code",
   "execution_count": 74,
   "id": "9e557c1f-ee2b-4228-a2b8-39c3aec58378",
   "metadata": {},
   "outputs": [],
   "source": [
    "# Function to solve the optimization problem for a single period\n",
    "def solve_period_optimization(L, P_g, C_g, P, E, eta, C_s, E0, num_intervals, num_seg, soc_bids):\n",
    "    # Variables\n",
    "    p = cp.Variable(num_gen)  # Power generation by each generator\n",
    "    c = cp.Variable(num_seg)             # Power charge by storage\n",
    "    d = cp.Variable(num_seg)             # Power discharge by storage\n",
    "    e = cp.Variable(num_seg)             # State of Charge (SoC) of storage\n",
    "\n",
    "    # Constraints\n",
    "    constraints = []\n",
    "\n",
    "    # Generator capacity constraints\n",
    "    for g in range(num_gen):\n",
    "        constraints += [p[g] >= 0,\n",
    "                        p[g] <= P_g[g]]\n",
    "\n",
    "    # Storage constraints\n",
    "    for s in range(num_seg):\n",
    "        constraints += [c[s] >= 0,\n",
    "                        c[s] <= P / num_seg,\n",
    "                        d[s] >= 0,\n",
    "                        d[s]<= P / num_seg]\n",
    "\n",
    "    # SoC constraints\n",
    "    for s in range(num_seg):\n",
    "        constraints += [e[s] == E0[s] + eta * c[s] - d[s] / eta]\n",
    "        constraints += [e[s] <= E / num_seg]\n",
    "        constraints += [e[s] >= 0]\n",
    "        \n",
    "    # Balance constraints and capture dual variables\n",
    "    balance_constraint = cp.sum(p) + cp.sum(d) == L + cp.sum(c)\n",
    "    constraints += [balance_constraint]\n",
    "\n",
    "    # Objective: Minimize system cost\n",
    "    cost = (cp.sum(cp.multiply(p, C_g.flatten())) +\n",
    "            cp.sum(cp.multiply(E0-e, soc_bids)) +\n",
    "            cp.sum(C_s * d)) / num_intervals\n",
    "    objective = cp.Minimize(cost)\n",
    "\n",
    "    # Problem definition\n",
    "    problem = cp.Problem(objective, constraints)\n",
    "\n",
    "    # Solve the problem using Gurobi if available, otherwise use a different solver\n",
    "    start_time = time.time()\n",
    "    try:\n",
    "        problem.solve(solver=cp.GUROBI, verbose=False, reoptimize=True)\n",
    "        dual_price = balance_constraint.dual_value * -num_intervals  # Extract dual values\n",
    "    except cp.SolverError:\n",
    "        print(\"Gurobi not available. Falling back to a different solver.\")\n",
    "        problem.solve(solver=cp.ECOS, verbose=False)  # You can use ECOS, SCS, or another solve\n",
    "        dual_price = balance_constraint.dual_value  * -num_intervals  # Extract dual values\n",
    "    end_time = time.time()\n",
    "\n",
    "    return problem.value, p.value, c.value, d.value, e.value, dual_price, end_time - start_time"
   ]
  },
  {
   "cell_type": "code",
   "execution_count": 31,
   "id": "d191bdfa-45b8-4c7a-9b80-d3ec8744673f",
   "metadata": {},
   "outputs": [
    {
     "name": "stdout",
     "output_type": "stream",
     "text": [
      "Day 1: Cost = 17993642.626535635, Run Time = 0.8971540927886963 seconds\n",
      "Total Run Time for all days: 1.0918078422546387 seconds\n"
     ]
    }
   ],
   "source": [
    "# Solve for each time step\n",
    "results = []\n",
    "\n",
    "all_daily_costs = []\n",
    "all_gen_output = []\n",
    "all_storage_ops = []\n",
    "all_clearing_prices= []\n",
    "\n",
    "total_start_time = time.time()  # Start time for the entire solving loop\n",
    "\n",
    "model = tf.keras.models.load_model('models/model0')\n",
    "\n",
    "\n",
    "for day in range(num_days):\n",
    "    # solve daily for first day (288 periods) to generate initial price signals\n",
    "    L = load[day, :]\n",
    "    if day == 0:\n",
    "        day = 0\n",
    "        E0 = E / 2\n",
    "        daily_cost, daily_gen, daily_charge, daily_discharge, daily_soc, dual_prices, run_time = solve_daily_optimization(L, P_g, C_g, P, E, eta, C_s, E0, num_intervals)\n",
    "        results.append((daily_cost, daily_gen, daily_charge, daily_discharge, daily_soc))\n",
    "        print(f\"Day {day + 1}: Cost = {daily_cost}, Run Time = {run_time} seconds\")\n",
    "    \n",
    "        # Collect results for each day\n",
    "        all_daily_costs.append({\n",
    "            'day': day + 1,\n",
    "            'cost': daily_cost,\n",
    "            'run_time': run_time\n",
    "        })\n",
    "    \n",
    "        all_gen_output.append(pd.DataFrame(daily_gen, columns=[f'gen_{i+1}' for i in range(num_gen)]))\n",
    "        all_storage_ops.append(pd.DataFrame({\n",
    "            'charge': daily_charge,\n",
    "            'discharge': daily_discharge,\n",
    "            'soc': daily_soc\n",
    "        }))\n",
    "        all_clearing_prices.append(pd.DataFrame({'clearing_price': dual_prices}))\n",
    "    else:\n",
    "        for ts in range(num_steps):\n",
    "            if (day == 1) & (ts == 0):\n",
    "                E0 = [0.2 * E, 0.2 * E, 0.1 * E, 0.0, 0.0]\n",
    "            else:\n",
    "                continue\n",
    "            v = model.predict(dual_prices).T\n",
    "            soc_bids = np.mean(v.reshape(num_seg, int(v.shape[0]/num_seg)), axis=1, keepdims=True).flatten()\n",
    "            daily_cost, daily_gen, daily_charge, daily_discharge, daily_soc, dual_price, run_time = solve_period_optimization(L, P_g, C_g, P, E, eta, C_s, E0, num_intervals, num_seg, soc_bids)\n",
    "\n",
    "\n",
    "total_end_time = time.time()  # End time for the entire solving loop\n",
    "total_run_time = total_end_time - total_start_time\n",
    "\n",
    "print(f\"Total Run Time for all days: {total_run_time} seconds\")\n"
   ]
  },
  {
   "cell_type": "code",
   "execution_count": 58,
   "id": "2e62e2c6-9c01-48a7-bb49-228b86382dd3",
   "metadata": {},
   "outputs": [],
   "source": [
    "prices = np.array(dual_prices).reshape(1, 288)"
   ]
  },
  {
   "cell_type": "code",
   "execution_count": 59,
   "id": "80063331-7ce8-4d5c-8a0c-1430b507c969",
   "metadata": {},
   "outputs": [
    {
     "data": {
      "text/plain": [
       "<keras.engine.sequential.Sequential at 0x18803b7c0>"
      ]
     },
     "execution_count": 59,
     "metadata": {},
     "output_type": "execute_result"
    }
   ],
   "source": [
    "model = tf.keras.models.load_model('models/model0')\n",
    "model"
   ]
  },
  {
   "cell_type": "code",
   "execution_count": 124,
   "id": "327bc5d9-c25f-4eb2-b065-04ce93e8a791",
   "metadata": {},
   "outputs": [
    {
     "name": "stdout",
     "output_type": "stream",
     "text": [
      "1/1 [==============================] - 0s 19ms/step\n"
     ]
    }
   ],
   "source": [
    "v = model.predict(prices).T"
   ]
  },
  {
   "cell_type": "code",
   "execution_count": 89,
   "id": "3d8dcf99-7e07-4733-ad57-71569b7fa2d7",
   "metadata": {},
   "outputs": [
    {
     "data": {
      "text/plain": [
       "50"
      ]
     },
     "execution_count": 89,
     "metadata": {},
     "output_type": "execute_result"
    }
   ],
   "source": [
    "v.shape[0]"
   ]
  },
  {
   "cell_type": "code",
   "execution_count": 94,
   "id": "14c0ba3c-9344-466b-981d-0cb5751d2712",
   "metadata": {},
   "outputs": [
    {
     "data": {
      "text/plain": [
       "10"
      ]
     },
     "execution_count": 94,
     "metadata": {},
     "output_type": "execute_result"
    }
   ],
   "source": [
    "int(v.shape[0]/num_seg)"
   ]
  },
  {
   "cell_type": "code",
   "execution_count": 116,
   "id": "8388527e-a33d-4a52-a135-524b6ad4b2bd",
   "metadata": {},
   "outputs": [],
   "source": [
    "num_seg = 5"
   ]
  },
  {
   "cell_type": "code",
   "execution_count": 136,
   "id": "3896879f-e53d-43f5-a80f-275a860701da",
   "metadata": {},
   "outputs": [],
   "source": [
    "soc_bids = np.mean(v.reshape(num_seg, int(v.shape[0]/num_seg)), axis=1, keepdims=True).flatten()"
   ]
  },
  {
   "cell_type": "code",
   "execution_count": 137,
   "id": "c31dfa6f-fc0e-4985-aef1-e2aff9a39b3f",
   "metadata": {},
   "outputs": [
    {
     "data": {
      "text/plain": [
       "array([56.327522, 56.0348  , 54.829124, 55.324043, 55.373768],\n",
       "      dtype=float32)"
      ]
     },
     "execution_count": 137,
     "metadata": {},
     "output_type": "execute_result"
    }
   ],
   "source": [
    "soc_bids"
   ]
  },
  {
   "cell_type": "code",
   "execution_count": 128,
   "id": "212f9b2e-e2b9-4fa9-8e1b-0f11f23822c0",
   "metadata": {},
   "outputs": [],
   "source": [
    "e = cp.Variable(num_seg)"
   ]
  },
  {
   "cell_type": "code",
   "execution_count": 135,
   "id": "654b7a39-c093-472b-b3fb-e545a644af46",
   "metadata": {},
   "outputs": [
    {
     "data": {
      "text/plain": [
       "Expression(AFFINE, UNKNOWN, (5,))"
      ]
     },
     "execution_count": 135,
     "metadata": {},
     "output_type": "execute_result"
    }
   ],
   "source": [
    "cp.multiply(e, soc_bids.flatten())"
   ]
  },
  {
   "cell_type": "code",
   "execution_count": 133,
   "id": "7ff2947a-2a52-4dad-b614-4c9c8fe2d1a2",
   "metadata": {},
   "outputs": [
    {
     "data": {
      "text/plain": [
       "array([56.327522, 56.0348  , 54.829124, 55.324043, 55.373768],\n",
       "      dtype=float32)"
      ]
     },
     "execution_count": 133,
     "metadata": {},
     "output_type": "execute_result"
    }
   ],
   "source": [
    "soc_bids.flatten()"
   ]
  }
 ],
 "metadata": {
  "kernelspec": {
   "display_name": "Python 3 (ipykernel)",
   "language": "python",
   "name": "python3"
  },
  "language_info": {
   "codemirror_mode": {
    "name": "ipython",
    "version": 3
   },
   "file_extension": ".py",
   "mimetype": "text/x-python",
   "name": "python",
   "nbconvert_exporter": "python",
   "pygments_lexer": "ipython3",
   "version": "3.9.18"
  }
 },
 "nbformat": 4,
 "nbformat_minor": 5
}
