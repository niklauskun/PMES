{
 "cells": [
  {
   "cell_type": "code",
   "execution_count": 16,
   "id": "f6174f7f-b92d-4530-8455-738797c79fde",
   "metadata": {},
   "outputs": [
    {
     "name": "stdout",
     "output_type": "stream",
     "text": [
      "Current installed solvers:  ['CLARABEL', 'ECOS', 'ECOS_BB', 'GUROBI', 'OSQP', 'SCIPY', 'SCS']\n"
     ]
    }
   ],
   "source": [
    "import pandas as pd\n",
    "import numpy as np\n",
    "import cvxpy as cp\n",
    "import time\n",
    "\n",
    "# Print the installed solver to see if GUROBI is installed correctly\n",
    "print(\"Current installed solvers: \", cp.installed_solvers())"
   ]
  },
  {
   "cell_type": "code",
   "execution_count": 2,
   "id": "69bcf12a-eaa9-4a1d-aecc-62816662e75e",
   "metadata": {},
   "outputs": [],
   "source": [
    "# Load the data\n",
    "load_data = pd.read_csv('data/CAISO_Load_2022.csv', usecols=['net_load']).values.flatten()\n",
    "thermal_gen_data = pd.read_csv('data/thermal_gen_offer.csv', usecols=['capacity_MW', 'energy_price'])"
   ]
  },
  {
   "cell_type": "code",
   "execution_count": 6,
   "id": "ad317c60-3820-4b03-a10a-13ca30f10ee7",
   "metadata": {},
   "outputs": [],
   "source": [
    "# Parameters\n",
    "num_days = 7\n",
    "num_steps = 288\n",
    "num_intervals = 12\n",
    "P = 10_000  # Total storage capacity in MW\n",
    "E = 40_000  # Total storage capacity in MWh\n",
    "eta = 0.9  # Storage one-way efficiency\n",
    "C_s = 20  # Storage marginal discharge cost\n",
    "\n",
    "# Generator data \n",
    "P_g = thermal_gen_data['capacity_MW'].values # Thermal generator capacities (MW)\n",
    "C_g = thermal_gen_data['energy_price'].values # Thermal generator offer ($/MW)\n",
    "\n",
    "# Reshape load data for 365 days of 288 steps\n",
    "load = load_data[0:num_days*num_steps].reshape((num_days, num_steps)) # Net load profile\n",
    "\n",
    "# Number of generators\n",
    "num_gen = len(P_g)"
   ]
  },
  {
   "cell_type": "code",
   "execution_count": 22,
   "id": "83e5eaf0-5a65-4a60-87b9-a552ce4d5233",
   "metadata": {},
   "outputs": [
    {
     "name": "stdout",
     "output_type": "stream",
     "text": [
      "Day 1: Cost = 190230305.1241787, Run Time = 1.1590700149536133 seconds\n",
      "Day 2: Cost = 215923711.51842764, Run Time = 1.151094913482666 seconds\n",
      "Day 3: Cost = 239475737.69889417, Run Time = 1.1431691646575928 seconds\n",
      "Day 4: Cost = 209923789.34478477, Run Time = 1.1580111980438232 seconds\n",
      "Day 5: Cost = 226554630.30651253, Run Time = 1.1384620666503906 seconds\n",
      "Day 6: Cost = 248066532.52781034, Run Time = 1.1255698204040527 seconds\n",
      "Day 7: Cost = 213576259.0177306, Run Time = 1.141362190246582 seconds\n"
     ]
    }
   ],
   "source": [
    "# Function to solve the optimization problem for a single day\n",
    "def solve_daily_optimization(L, P_g, C_g, P, E, eta, C_s, E0, num_intervals):\n",
    "    # Variables\n",
    "    p = cp.Variable((num_steps, num_gen))  # Power generation by each generator\n",
    "    c = cp.Variable(num_steps)             # Power charge by storage\n",
    "    d = cp.Variable(num_steps)             # Power discharge by storage\n",
    "    e = cp.Variable(num_steps)             # State of Charge (SoC) of storage\n",
    "\n",
    "    # Constraints\n",
    "    constraints = []\n",
    "\n",
    "    # Generator capacity constraints\n",
    "    for g in range(num_gen):\n",
    "        constraints += [p[:, g] >= 0,\n",
    "                        p[:, g] <= P_g[g]]\n",
    "\n",
    "    # Storage constraints\n",
    "    constraints += [c >= 0,\n",
    "                    c <= P,\n",
    "                    d >= 0,\n",
    "                    d <= P]\n",
    "\n",
    "    # SoC constraints\n",
    "    constraints += [e[0] == E0 + eta * c[0] - d[0] / eta]\n",
    "    for t in range(1, num_steps):\n",
    "        constraints += [e[t] == e[t-1] + eta * c[t] - d[t] / eta]\n",
    "    constraints += [e >= 0, e <= E]\n",
    "\n",
    "    # End of day SoC constraint\n",
    "    constraints += [e[-1] == E / 2]  # End SoC is 50%\n",
    "\n",
    "    # Balance constraints\n",
    "    for t in range(num_steps):\n",
    "        constraints += [cp.sum(p[t, :]) + d[t] == L[t] + c[t]]\n",
    "\n",
    "    # Objective: Minimize system cost\n",
    "    cost = (cp.sum(cp.multiply(p, C_g.reshape(1, -1))) + cp.sum(C_s * d))/ num_intervals\n",
    "    objective = cp.Minimize(cost)\n",
    "\n",
    "    # Problem definition\n",
    "    problem = cp.Problem(objective, constraints)\n",
    "\n",
    "    # Solve the problem using Gurobi if available, otherwise use a different solver\n",
    "    start_time = time.time()\n",
    "    try:\n",
    "        problem.solve(solver=cp.GUROBI, verbose=False, reoptimize=True)\n",
    "    except cp.SolverError:\n",
    "        print(\"Gurobi not available. Falling back to a different solver.\")\n",
    "        problem.solve(solver=cp.ECOS, verbose=False)  # You can use ECOS, SCS, or another solve\n",
    "    end_time = time.time()\n",
    "\n",
    "    return problem.value, p.value, c.value, d.value, e.value, end_time - start_time\n",
    "\n",
    "# Solve for each day\n",
    "results = []\n",
    "E0 = E / 2  # Initial SoC is 50%\n",
    "\n",
    "all_daily_costs = []\n",
    "all_gen_output = []\n",
    "all_storage_ops = []\n",
    "\n",
    "for day in range(num_days):\n",
    "    L = load[day, :]\n",
    "    daily_cost, daily_gen, daily_charge, daily_discharge, daily_soc, run_time = solve_daily_optimization(L, P_g, C_g, P, E, eta, C_s, E0, num_intervals)\n",
    "    results.append((daily_cost, daily_gen, daily_charge, daily_discharge, daily_soc))\n",
    "    print(f\"Day {day + 1}: Cost = {daily_cost}, Run Time = {run_time} seconds\")\n",
    "\n",
    "    # Collect results for each day\n",
    "    all_daily_costs.append({\n",
    "        'day': day + 1,\n",
    "        'cost': daily_cost,\n",
    "        'run_time': run_time\n",
    "    })\n",
    "\n",
    "    all_gen_output.append(pd.DataFrame(daily_gen, columns=[f'gen_{i+1}' for i in range(num_gen)]))\n",
    "    all_storage_ops.append(pd.DataFrame({\n",
    "        'charge': daily_charge,\n",
    "        'discharge': daily_discharge,\n",
    "        'soc': daily_soc\n",
    "    }))"
   ]
  },
  {
   "cell_type": "code",
   "execution_count": 24,
   "id": "ae487eef-5525-4a65-b16e-087ce327b61d",
   "metadata": {},
   "outputs": [],
   "source": [
    "# Save all results to CSV\n",
    "# Daily costs\n",
    "pd.DataFrame(all_daily_costs).to_csv('results/daily_costs.csv', index=False)\n",
    "\n",
    "# Generator outputs\n",
    "all_gen_output_df = pd.concat(all_gen_output, keys=range(1, num_days+1), names=['day', 'step'])\n",
    "all_gen_output_df.to_csv('results/generator_outputs.csv')\n",
    "\n",
    "# Storage operations\n",
    "all_storage_ops_df = pd.concat(all_storage_ops, keys=range(1, num_days+1), names=['day', 'step'])\n",
    "all_storage_ops_df.to_csv('results/storage_operations.csv')"
   ]
  }
 ],
 "metadata": {
  "kernelspec": {
   "display_name": "Python 3 (ipykernel)",
   "language": "python",
   "name": "python3"
  },
  "language_info": {
   "codemirror_mode": {
    "name": "ipython",
    "version": 3
   },
   "file_extension": ".py",
   "mimetype": "text/x-python",
   "name": "python",
   "nbconvert_exporter": "python",
   "pygments_lexer": "ipython3",
   "version": "3.12.4"
  }
 },
 "nbformat": 4,
 "nbformat_minor": 5
}
