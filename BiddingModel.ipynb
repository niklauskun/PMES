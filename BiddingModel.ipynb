{
 "cells": [
  {
   "cell_type": "code",
   "execution_count": 1,
   "id": "384d0c52-f9eb-464c-b166-14a2c71335a2",
   "metadata": {},
   "outputs": [
    {
     "name": "stderr",
     "output_type": "stream",
     "text": [
      "2024-08-05 16:37:43.029343: I tensorflow/core/platform/cpu_feature_guard.cc:182] This TensorFlow binary is optimized to use available CPU instructions in performance-critical operations.\n",
      "To enable the following instructions: SSE4.1 SSE4.2, in other operations, rebuild TensorFlow with the appropriate compiler flags.\n"
     ]
    }
   ],
   "source": [
    "import scipy.io\n",
    "import numpy as np\n",
    "import pandas as pd\n",
    "import math\n",
    "import matplotlib.pyplot as plt\n",
    "from datetime import date\n",
    "import tensorflow as tf\n",
    "from datetime import date\n",
    "import time"
   ]
  },
  {
   "cell_type": "code",
   "execution_count": 2,
   "id": "81564d6a-d9f1-4056-99d5-3d1f06159f94",
   "metadata": {},
   "outputs": [],
   "source": [
    "# Compute current value function using the value function from the next time period\n",
    "def CalcValueNoUnc(d, c, P, eta, vi, ed, iC, iD):\n",
    "    \"\"\"\n",
    "    Title: Calculate Risk-Neutral value function using deterministic price\n",
    "    Inputs:\n",
    "        d - price right now\n",
    "        c - marginal discharge cost\n",
    "        P - power rating w.r.t to energy rating and sampling time,\n",
    "        i.e., 2hr duration battery with 5min resolution -> P = (1/2)/12 \n",
    "        eta - efficiency\n",
    "        vi - input value function for the next time period, which equals to\n",
    "        v_t(e) where e is sampled from 0 to 1 at the granularity e\n",
    "        ed - granularity at which vi is sampled, in p.u. to energy rating\n",
    "    Outputs:\n",
    "        vo - value function for the current time period sampled at ed\n",
    "    \"\"\"\n",
    "    # add a large number of upper and lower v, where the first point is\n",
    "    # v_t(0-) = +infty, and the second point is v_t(0), the second largest one is\n",
    "    # v_t(1), and the largest one is v_t(1+) = -infty\n",
    "    lNum = 1e5*np.ones((1,))\n",
    "    v_foo = np.concatenate([lNum, vi, -lNum], axis=0)\n",
    "\n",
    "    # # calculate soc after charge vC = v_t(e+P*eta)\n",
    "    vC = v_foo[iC]\n",
    "\n",
    "    # # calculate soc after discharge vC = v_t(e-P/eta)\n",
    "    vD = v_foo[iD]\n",
    "\n",
    "    # calculate CDF and PDF\n",
    "    FtEC = (vi*eta > d).astype(int) # F_t(v_t(e)*eta)\n",
    "    FtCC = (vC*eta > d).astype(int) # F_t(v_t(e+P*eta)*eta)\n",
    "    FtED = ((vi/eta + c)*((vi/eta + c) > 0) > d).astype(int) # F_t(v_t(e)/eta + c) \n",
    "    FtDD = ((vD/eta + c)*((vD/eta + c) > 0) > d).astype(int) # F_t(v_t(e-P/eta)/eta + c) \n",
    "\n",
    "    # calculate terms\n",
    "    Term1 = vC * FtCC\n",
    "    Term2 = d*(vC*eta <= d)*(vi*eta > d)/ eta\n",
    "    Term3 = vi * (FtED - FtEC)\n",
    "    Term4 = d*(((vi/eta + c)*((vi/eta + c) > 0)) <= d)*(((vD/eta + c)*((vD/eta + c) > 0))>d) * eta\n",
    "    Term5 = - c * eta * (FtDD - FtED)\n",
    "    Term6 = vD * (1-FtDD)\n",
    "\n",
    "    # output new value function samped at ed\n",
    "    vo = Term1 + Term2 + Term3 + Term4 + Term5 + Term6\n",
    "    return vo\n",
    "\n",
    "\n",
    "def ArbValue(lmp, v, e, P, E, eta, c, N):\n",
    "    \"\"\"\n",
    "        Title: Arbitrage test using value function\n",
    "\n",
    "        lmp: lambda, electricity price over time period t\n",
    "        v: marginal value function\n",
    "        e: current SoC\n",
    "        P: P = Pr * Ts; actual power rating taking time step size into account\n",
    "        E: SoC upper limit, usually takes 1\n",
    "        eta: eta = .9; # efficiency\n",
    "        c: c = 10; # marginal discharge cost - degradation\n",
    "        N: number of SOC samples, 1001\n",
    "    \"\"\"\n",
    "\n",
    "    iE = np.ceil((N-1)*e/E).astype(int) # find the nearest SoC index. iE here is 1 smaller than MATLAB.\n",
    "\n",
    "    vF = v.copy() # read the value function\n",
    "    # charge efficiency: iE+1 to end in Matlab, so iE to end here\n",
    "    vF[iE+1 :] = vF[iE+1 :] * eta\n",
    "    # discharge efficiency: 1 to iE-1 in Matlab, so 0 to iE-1 (exclusive) here\n",
    "    vF[0 : iE] = vF[0 : iE] / eta + c\n",
    "\n",
    "    # charge index\n",
    "    if len(np.nonzero(vF >= lmp)[0])>0:\n",
    "        iC = np.max(np.nonzero(vF >= lmp))\n",
    "    else:\n",
    "        iC = None\n",
    "\n",
    "    # discharge index\n",
    "    if len(np.nonzero(vF <= lmp)[0])>0:\n",
    "        iD = np.min(np.nonzero(vF <= lmp))\n",
    "    else:\n",
    "        iD = None\n",
    "\n",
    "    # iF = iC*(iC > iE) + iD*(iD < iE) + iE*(iC <= iE)*(iD >= iE);\n",
    "    if iC is not None:\n",
    "        if iC > iE:\n",
    "            iF = iC\n",
    "        elif iD is not None:\n",
    "            if iD < iE:\n",
    "                iF = iD\n",
    "            else:\n",
    "                iF = iE\n",
    "        else:\n",
    "            iF = iE\n",
    "    elif iD is not None:\n",
    "        if iD < iE:\n",
    "            iF = iD\n",
    "        else:\n",
    "            iF = iE\n",
    "    else:\n",
    "        iF = iE\n",
    "\n",
    "    eF = (iF)/(N-1)*E\n",
    "    eF = max(min(eF, e + P*eta), e-P/eta)\n",
    "    pF = (e-eF)/eta*((e-eF) < 0) + (e-eF)*eta*((e-eF) > 0)\n",
    "    \n",
    "    return eF, pF"
   ]
  },
  {
   "cell_type": "code",
   "execution_count": 31,
   "id": "3e43a7f5-02cb-4d2b-a790-44798eb49026",
   "metadata": {},
   "outputs": [],
   "source": [
    "def generate_value_function(Ts, P, eta, c, ed, ef, Ne, T, num_segment, tlambda):\n",
    "    '''\n",
    "    Generate marginal value function v and dowmsampled marginal value function vAvg\n",
    "\n",
    "    Ts: time step, 1/12\n",
    "    P : P = Pr * Ts; # actual power rating taking time step size into account\n",
    "    eta: eta = .9; # efficiency\n",
    "    c: c = 10; # marginal discharge cost - degradation\n",
    "    ed: ed = 0.001; # SoC sample granularity\n",
    "    ef: ef = 0.5; # # final SoC target level\n",
    "    Ne: Ne = math.floor(1/ed)+1  # number of SOC samples, (1/0.001)+1=1001\n",
    "    T: Total time steps\n",
    "    num_segment: dowmsample arginal value function v to num_segment vAvg\n",
    "    tlambda: real-time price\n",
    "    '''\n",
    "\n",
    "    start_time = time.time()\n",
    "\n",
    "    # Set final SoC level\n",
    "    vEnd = np.zeros(Ne)\n",
    "    vEnd[0:math.floor(ef * 1001)] = 1e2 # Use 100 as the penalty for final discharge level\n",
    "\n",
    "    # Define the risk-neutral value function and populate the final column.\n",
    "    # v[0, 0] is the marginal value of 0% SoC at the beginning of day 1, v[Ne, T]is the maringal value of 100% SoC at the beginning of the last operating day\n",
    "    v = np.zeros((Ne, T+1)) # initialize the value function series\n",
    "    v[:, -1] = vEnd  # v.shape == (1001, 210241)\n",
    "\n",
    "    # Process indices: discretize vt by modeling it as an vector v_{t,j} in which each element is associated with equally spaced SoC samples\n",
    "    es = np.arange(start=0, stop=1+ed, step=ed)\n",
    "\n",
    "    # the number of samples is J = 1 + E/ed\n",
    "    Ne = len(es)\n",
    "\n",
    "    # Calculate soc after charge vC = v_t(e+P*eta)\n",
    "    eC = es + P*eta  # [0.0375 0.0385 0.0395 ... 1.0355 1.0365 1.0375]\n",
    "    iC = np.ceil(eC/ed)\n",
    "    iC[iC > (Ne+1)] = Ne + 1\n",
    "    iC[iC < 1] = 0\n",
    "    # print(iC) # [  38.   39.   40. ... 1002. 1002. 1002.]\n",
    "    # print(iC.shape) # (1001,)\n",
    "\n",
    "\n",
    "    # Calculate soc after discharge vC = v_t(e-P/eta)\n",
    "    eD = es - P/eta\n",
    "    iD = np.floor(eD/ed)\n",
    "    iD[iD > (Ne+1)] = Ne + 1\n",
    "    iD[iD < 1] = 0\n",
    "    # print(iD) # [  0.   0.   0. ... 951. 952. 953.]\n",
    "    # print(iD.shape) # (1001,)\n",
    "\n",
    "\n",
    "    # Populate marginal value function\n",
    "    for t in reversed(range(0, T)): # start from the last day and move backwards\n",
    "        vi = v[:, t+1] # input value function of next time stamp\n",
    "        # added one day (24/Ts) to exclude first day, first day will be used as predictors only due to look-back window\n",
    "        vo = CalcValueNoUnc(tlambda[int(t+24/Ts)], c, P, eta, vi, ed, iC.astype(int), iD.astype(int))\n",
    "        v[:,t] = vo # record the result\n",
    "    # print(v)\n",
    "    # print(v.shape) # (1001, 210241)\n",
    "    # print(np.sum(v)) # 6210425677.739915, MATLAB: 6.2082e+09\n",
    "\n",
    "    end_time = time.time()\n",
    "    print('Time:', end_time - start_time)\n",
    "\n",
    "    # Downsample: https://stackoverflow.com/questions/14916545/numpy-rebinning-a-2d-array\n",
    "    vAvg = v[0:1000, :].reshape([num_segment, int(1000/num_segment), v.shape[1], 1]).mean(3).mean(1)\n",
    "\n",
    "    return v, vAvg"
   ]
  },
  {
   "cell_type": "code",
   "execution_count": 4,
   "id": "c5089750-ccbc-4648-8b8b-93554091b395",
   "metadata": {},
   "outputs": [],
   "source": [
    "def generate_train(T, tlambda, num_RTP, vAvg):\n",
    "    X_train = np.zeros((T, num_RTP))\n",
    "\n",
    "    for t in range(T):\n",
    "        X_train[t, :] = tlambda[t+289-num_RTP : t+289]\n",
    "\n",
    "    y_train = vAvg.T[0:T, :]\n",
    "    \n",
    "    print(X_train.shape)\n",
    "    print(y_train.shape)\n",
    "\n",
    "    return X_train, y_train\n"
   ]
  },
  {
   "cell_type": "code",
   "execution_count": 5,
   "id": "b62ab534-e631-4611-bfa1-887dd7c65ab4",
   "metadata": {},
   "outputs": [],
   "source": [
    "# def generate_train(T, DAP, tlambda, start, stop, lastDay, num_DAP, num_RTP, vAvg):\n",
    "#     X_train = np.zeros((T, num_DAP+num_RTP))\n",
    "\n",
    "#     # if num_DAP > 0:\n",
    "#     # DAP: previous (num_DAP-1) prices + current price\n",
    "#     DAP_sub = DAP[::12] # Subsample DAP\n",
    "#     lambda_DA_sub = DAP_sub[:, (len(DAP_sub[0])-lastDay+start-2):(len(DAP_sub[0])-lastDay+stop+1)]\n",
    "#     tlambda_DA_sub = lambda_DA_sub.flatten('F')\n",
    "#     for t in range(T):\n",
    "#         X_train[t, 0:num_DAP] = tlambda_DA_sub[int(t/12)+37-num_DAP : int(t/12)+37]\n",
    "\n",
    "#     # RTP: Previous (num_RTP-1) prices + current price\n",
    "#     for t in range(T):\n",
    "#         X_train[t, num_DAP:num_DAP+num_RTP] = tlambda[t+289-num_RTP : t+289]\n",
    "\n",
    "\n",
    "#     y_train = vAvg.T[0:T, :]\n",
    "    \n",
    "#     print(X_train.shape)\n",
    "#     print(y_train.shape)\n",
    "\n",
    "#     return X_train, y_train"
   ]
  },
  {
   "cell_type": "code",
   "execution_count": 6,
   "id": "079d5be5-1543-4000-bc0d-0c2ce7fa6c48",
   "metadata": {},
   "outputs": [],
   "source": [
    "def train(X_train, y_train, input_size=60, dense_size=60, output_size=50, activation_fn='relu', epochs=10):\n",
    "    model = tf.keras.Sequential([\n",
    "    tf.keras.layers.InputLayer(input_shape=(input_size,)),\n",
    "        tf.keras.layers.Dense(dense_size, activation=activation_fn),\n",
    "        tf.keras.layers.Dense(dense_size, activation=activation_fn),\n",
    "        tf.keras.layers.Dense(output_size)\n",
    "    ])\n",
    "    print(model.summary())\n",
    "\n",
    "    # Since we are doing regression, we use mean squared error here\n",
    "    model.compile(optimizer='adam',\n",
    "                loss=tf.keras.losses.MeanSquaredError())\n",
    "    model.fit(X_train, y_train, epochs=epochs)\n",
    "    return model"
   ]
  },
  {
   "cell_type": "code",
   "execution_count": 7,
   "id": "a945a411-7742-487f-856b-688cf49ab791",
   "metadata": {},
   "outputs": [],
   "source": [
    "def evaluate_using_train():\n",
    "    print(\"=\"*30)\n",
    "    print('Evaluating using X_train')\n",
    "    print(\"=\"*30)\n",
    "    v2 = model.predict(X_train).T\n",
    "    # print(v2.shape) # (20, 210240)\n",
    "    '''\n",
    "    Plot\n",
    "    '''\n",
    "    # plt.plot(v2[25,0:287], linestyle = 'dotted')\n",
    "    # plt.plot(v[25,0:287], linestyle = 'dotted')\n",
    "    # plt.show()\n",
    "\n",
    "    '''\n",
    "    Perform arbitrage\n",
    "    '''\n",
    "    eS = np.zeros(T) # generate the SoC series\n",
    "    # print(eS.shape)\n",
    "\n",
    "    pS = np.zeros(T) # generate the power series\n",
    "    # print(pS.shape) # (210240,)\n",
    "\n",
    "    e = e0 # initial SoC\n",
    "    # print(e)\n",
    "\n",
    "    for t in range(T-1): # start from the first day and move forwards\n",
    "        vv = v2[:, t+1]\n",
    "        e, p = ArbValue(RTP[288+t], vv, e, P, 1, eta, c, v2.shape[0])\n",
    "        eS[t] = e # record SoC\n",
    "        pS[t] = p # record Power\n",
    "\n",
    "    ProfitOut = np.sum(pS * RTP[288:len(RTP)]) - np.sum(c * pS[pS>0])\n",
    "    Revenue = np.sum(pS * RTP[288:len(RTP)])\n",
    "    print('ProfitOut:', ProfitOut)\n",
    "    print('Revenue:', Revenue)\n",
    "\n",
    "    return(ProfitOut)"
   ]
  },
  {
   "cell_type": "code",
   "execution_count": 22,
   "id": "4bb80c91-ca9d-44f5-81aa-f696e5173f3d",
   "metadata": {},
   "outputs": [
    {
     "name": "stdout",
     "output_type": "stream",
     "text": [
      "ProfitOut: 10485.22263150116\n",
      "Revenue: 16560.006631501157\n"
     ]
    }
   ],
   "source": [
    "eS = np.zeros(T) # generate the SoC series\n",
    "    # print(eS.shape)\n",
    "\n",
    "pS = np.zeros(T) # generate the power series\n",
    "    # print(pS.shape) # (210240,)\n",
    "\n",
    "e = e0 # initial SoC\n",
    "# print(e)\n",
    "\n",
    "for t in range(T-1): # start from the first day and move forwards\n",
    "    vv = v[:, t+1]\n",
    "    e, p = ArbValue(RTP[288+t], vv, e, P, 1, eta, c, v.shape[0])\n",
    "    eS[t] = e # record SoC\n",
    "    pS[t] = p # record Power\n",
    "\n",
    "ProfitOut = np.sum(pS * RTP[288:len(RTP)]) - np.sum(c * pS[pS>0])\n",
    "Revenue = np.sum(pS * RTP[288:len(RTP)])\n",
    "print('ProfitOut:', ProfitOut)\n",
    "print('Revenue:', Revenue)"
   ]
  },
  {
   "cell_type": "code",
   "execution_count": 20,
   "id": "94f6bdb2-87f2-4f80-ab18-afe58f26226f",
   "metadata": {},
   "outputs": [
    {
     "data": {
      "text/plain": [
       "41.94089052600464"
      ]
     },
     "execution_count": 20,
     "metadata": {},
     "output_type": "execute_result"
    }
   ],
   "source": [
    "ProfitOut/1000*4"
   ]
  },
  {
   "cell_type": "markdown",
   "id": "1407e300-b201-4cbe-bfbd-e50e83da27dc",
   "metadata": {},
   "source": [
    "### Bidding Model Training with Multi Layor Perceptron \n"
   ]
  },
  {
   "cell_type": "code",
   "execution_count": 23,
   "id": "d2bbc93f-3731-495a-9a4b-0f6f872b253a",
   "metadata": {},
   "outputs": [],
   "source": [
    "### Read training real-time price\n",
    "RTP = pd.read_csv('results/clearing_prices.csv', usecols = ['clearing_price']).values.reshape(-1)\n",
    "load = pd.read_csv('data/CAISO_Load_2022.csv', usecols=['net_load']).values.flatten()"
   ]
  },
  {
   "cell_type": "code",
   "execution_count": 33,
   "id": "452f384f-e17b-4b7e-96ec-d60646234409",
   "metadata": {},
   "outputs": [],
   "source": [
    "Ts = 1/12 # time step: 5min\n",
    "T = len(RTP)-288\n",
    "\n",
    "'''\n",
    "Set parameters\n",
    "'''\n",
    "Pr = 0.5  # normalized power rating wrt energy rating (highest power input allowed to flow through particular equipment)\n",
    "P = Pr*Ts  # actual power rating taking time step size into account, 0.5*1/12 = 0.041666666666666664\n",
    "eta = 0.9  # efficiency\n",
    "c = 20.0  # marginal discharge cost - degradation\n",
    "ed = .001  # SoC sample granularity\n",
    "ef = .5  # final SoC target level, use 0 if none\n",
    "Ne = math.floor(1/ed)+1  # number of SOC samples, (1/0.001)+1=1001\n",
    "e0 = .5  # Beginning SoC level\n",
    "\n",
    "'''\n",
    "Downsample settings\n",
    "'''\n",
    "num_segment = 50"
   ]
  },
  {
   "cell_type": "code",
   "execution_count": 34,
   "id": "ec616385-1543-44d9-8497-f8ddab993718",
   "metadata": {},
   "outputs": [
    {
     "ename": "TypeError",
     "evalue": "'float' object cannot be interpreted as an integer",
     "output_type": "error",
     "traceback": [
      "\u001b[0;31m---------------------------------------------------------------------------\u001b[0m",
      "\u001b[0;31mTypeError\u001b[0m                                 Traceback (most recent call last)",
      "Cell \u001b[0;32mIn[34], line 1\u001b[0m\n\u001b[0;32m----> 1\u001b[0m v, vAvg \u001b[38;5;241m=\u001b[39m \u001b[43mgenerate_value_function\u001b[49m\u001b[43m(\u001b[49m\u001b[43mTs\u001b[49m\u001b[43m,\u001b[49m\u001b[43m \u001b[49m\u001b[43mP\u001b[49m\u001b[43m,\u001b[49m\u001b[43m \u001b[49m\u001b[43meta\u001b[49m\u001b[43m,\u001b[49m\u001b[43m \u001b[49m\u001b[43mc\u001b[49m\u001b[43m,\u001b[49m\u001b[43m \u001b[49m\u001b[43med\u001b[49m\u001b[43m,\u001b[49m\u001b[43m \u001b[49m\u001b[43mef\u001b[49m\u001b[43m,\u001b[49m\u001b[43m \u001b[49m\u001b[43mNe\u001b[49m\u001b[43m,\u001b[49m\u001b[43m \u001b[49m\u001b[43mT\u001b[49m\u001b[43m,\u001b[49m\u001b[43m \u001b[49m\u001b[43mnum_segment\u001b[49m\u001b[43m,\u001b[49m\u001b[43m \u001b[49m\u001b[43mRTP\u001b[49m\u001b[43m)\u001b[49m\n",
      "Cell \u001b[0;32mIn[31], line 53\u001b[0m, in \u001b[0;36mgenerate_value_function\u001b[0;34m(Ts, P, eta, c, ed, ef, Ne, T, num_segment, tlambda)\u001b[0m\n\u001b[1;32m     47\u001b[0m iD[iD \u001b[38;5;241m<\u001b[39m \u001b[38;5;241m1\u001b[39m] \u001b[38;5;241m=\u001b[39m \u001b[38;5;241m0\u001b[39m\n\u001b[1;32m     48\u001b[0m \u001b[38;5;66;03m# print(iD) # [  0.   0.   0. ... 951. 952. 953.]\u001b[39;00m\n\u001b[1;32m     49\u001b[0m \u001b[38;5;66;03m# print(iD.shape) # (1001,)\u001b[39;00m\n\u001b[1;32m     50\u001b[0m \n\u001b[1;32m     51\u001b[0m \n\u001b[1;32m     52\u001b[0m \u001b[38;5;66;03m# Populate marginal value function\u001b[39;00m\n\u001b[0;32m---> 53\u001b[0m \u001b[38;5;28;01mfor\u001b[39;00m t \u001b[38;5;129;01min\u001b[39;00m \u001b[38;5;28mreversed\u001b[39m(\u001b[38;5;28;43mrange\u001b[39;49m\u001b[43m(\u001b[49m\u001b[38;5;241;43m24\u001b[39;49m\u001b[38;5;241;43m/\u001b[39;49m\u001b[43mTs\u001b[49m\u001b[43m,\u001b[49m\u001b[43m \u001b[49m\u001b[43mT\u001b[49m\u001b[38;5;241;43m+\u001b[39;49m\u001b[38;5;241;43m24\u001b[39;49m\u001b[38;5;241;43m/\u001b[39;49m\u001b[43mTs\u001b[49m\u001b[43m)\u001b[49m): \u001b[38;5;66;03m# start from the last day and move backwards\u001b[39;00m\n\u001b[1;32m     54\u001b[0m     vi \u001b[38;5;241m=\u001b[39m v[:, t\u001b[38;5;241m+\u001b[39m\u001b[38;5;241m1\u001b[39m] \u001b[38;5;66;03m# input value function of next time stamp\u001b[39;00m\n\u001b[1;32m     55\u001b[0m     \u001b[38;5;66;03m# added one day (24/Ts) to exclude first day, first day will be used as predictors only due to look-back window\u001b[39;00m\n",
      "\u001b[0;31mTypeError\u001b[0m: 'float' object cannot be interpreted as an integer"
     ]
    }
   ],
   "source": [
    "v, vAvg = generate_value_function(Ts, P, eta, c, ed, ef, Ne, T, num_segment, RTP)"
   ]
  },
  {
   "cell_type": "code",
   "execution_count": 26,
   "id": "5ad8c479-61d1-4104-a0d3-6219d2d6604b",
   "metadata": {},
   "outputs": [
    {
     "data": {
      "text/plain": [
       "(1001, 104833)"
      ]
     },
     "execution_count": 26,
     "metadata": {},
     "output_type": "execute_result"
    }
   ],
   "source": [
    "v.shape"
   ]
  },
  {
   "cell_type": "code",
   "execution_count": 11,
   "id": "1e8c19d0-5455-42ee-9362-3045026d9896",
   "metadata": {},
   "outputs": [
    {
     "name": "stdout",
     "output_type": "stream",
     "text": [
      "(104832, 288)\n",
      "(104832, 50)\n",
      "Model: \"sequential\"\n",
      "_________________________________________________________________\n",
      " Layer (type)                Output Shape              Param #   \n",
      "=================================================================\n",
      " dense (Dense)               (None, 288)               83232     \n",
      "                                                                 \n",
      " dense_1 (Dense)             (None, 288)               83232     \n",
      "                                                                 \n",
      " dense_2 (Dense)             (None, 50)                14450     \n",
      "                                                                 \n",
      "=================================================================\n",
      "Total params: 180,914\n",
      "Trainable params: 180,914\n",
      "Non-trainable params: 0\n",
      "_________________________________________________________________\n",
      "None\n"
     ]
    },
    {
     "name": "stderr",
     "output_type": "stream",
     "text": [
      "WARNING:absl:Found untraced functions such as _update_step_xla while saving (showing 1 of 1). These functions will not be directly callable after loading.\n"
     ]
    },
    {
     "name": "stdout",
     "output_type": "stream",
     "text": [
      "INFO:tensorflow:Assets written to: models/model0/assets\n"
     ]
    },
    {
     "name": "stderr",
     "output_type": "stream",
     "text": [
      "INFO:tensorflow:Assets written to: models/model0/assets\n"
     ]
    },
    {
     "name": "stdout",
     "output_type": "stream",
     "text": [
      "==============================\n",
      "Evaluating using X_train\n",
      "==============================\n",
      "3276/3276 [==============================] - 2s 619us/step\n",
      "ProfitOut: 8501.966691142856\n",
      "Revenue: 14208.847643523808\n"
     ]
    }
   ],
   "source": [
    "num_RTP = 288\n",
    "num_neurons = 288\n",
    "num_epochs = 10\n",
    "num_model = 1\n",
    "profit = np.zeros([num_model,2])\n",
    "\n",
    "for i in range(num_model):\n",
    "  tf.keras.utils.set_random_seed(i)\n",
    "  tf.random.set_seed(i)\n",
    "  X_train, y_train = generate_train(T, RTP, num_RTP, vAvg)\n",
    "  model = train(X_train, y_train, num_RTP, num_neurons, num_segment, 'relu', num_epochs)\n",
    "  model.save('models/model%s'%i)\n",
    "  train_profit = evaluate_using_train()\n"
   ]
  },
  {
   "cell_type": "code",
   "execution_count": 12,
   "id": "13c9b334-da69-4c50-928f-cdb98fec3a4a",
   "metadata": {},
   "outputs": [
    {
     "data": {
      "image/png": "[encoded data removed]",
      "text/plain": [
       "<Figure size 1000x600 with 1 Axes>"
      ]
     },
     "metadata": {},
     "output_type": "display_data"
    }
   ],
   "source": [
    "Tend = 288\n",
    "# Plot the n*1 ndarray\n",
    "line1 = vAvg[0,0:Tend] / 0.9 + 20\n",
    "line2 = vAvg[0,0:Tend] * 0.9\n",
    "plt.figure(figsize=(10, 6))\n",
    "plt.plot(vAvg[0,0:Tend], marker='o', linestyle='-', label='Marginal Value')\n",
    "plt.plot(line1, marker='x', linestyle='--', label='Discharge Bid')\n",
    "plt.plot(line2, marker='s', linestyle=':', label='Charge Bid')\n",
    "plt.xlabel('Time Steps (5-min)', fontsize = 20)\n",
    "plt.ylabel('$/MWh', fontsize = 20)\n",
    "plt.title('One Day of ES marginal value, dicharge and charge bid', fontsize = 20)\n",
    "plt.legend()\n",
    "plt.xlim([0,288])\n",
    "\n",
    "plt.legend(fontsize = 20)\n",
    "plt.xticks(fontsize = 20)\n",
    "plt.yticks(fontsize = 20)\n",
    "\n",
    "\n",
    "plt.grid(True)\n",
    "plt.show()"
   ]
  },
  {
   "cell_type": "code",
   "execution_count": null,
   "id": "fa3a9870-2483-41fc-a43a-4f8896bd174f",
   "metadata": {},
   "outputs": [],
   "source": []
  }
 ],
 "metadata": {
  "kernelspec": {
   "display_name": "Python 3 (ipykernel)",
   "language": "python",
   "name": "python3"
  },
  "language_info": {
   "codemirror_mode": {
    "name": "ipython",
    "version": 3
   },
   "file_extension": ".py",
   "mimetype": "text/x-python",
   "name": "python",
   "nbconvert_exporter": "python",
   "pygments_lexer": "ipython3",
   "version": "3.9.18"
  }
 },
 "nbformat": 4,
 "nbformat_minor": 5
}
