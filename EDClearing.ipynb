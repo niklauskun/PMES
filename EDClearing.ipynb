{
 "cells": [
  {
   "cell_type": "code",
   "execution_count": 1,
   "id": "7096951a-cbe7-4abc-9591-1826bf86c59d",
   "metadata": {},
   "outputs": [
    {
     "name": "stderr",
     "output_type": "stream",
     "text": [
      "2024-08-23 09:42:10.352589: I tensorflow/core/platform/cpu_feature_guard.cc:182] This TensorFlow binary is optimized to use available CPU instructions in performance-critical operations.\n",
      "To enable the following instructions: SSE4.1 SSE4.2, in other operations, rebuild TensorFlow with the appropriate compiler flags.\n"
     ]
    },
    {
     "name": "stdout",
     "output_type": "stream",
     "text": [
      "Current installed solvers:  ['CLARABEL', 'ECOS', 'ECOS_BB', 'GUROBI', 'OSQP', 'SCIPY', 'SCS']\n"
     ]
    }
   ],
   "source": [
    "import pandas as pd\n",
    "import numpy as np\n",
    "import cvxpy as cp\n",
    "import matplotlib.pyplot as plt\n",
    "import time\n",
    "import tensorflow as tf\n",
    "import math\n",
    "\n",
    "\n",
    "# Print the installed solver to see if GUROBI is installed correctly\n",
    "print(\"Current installed solvers: \", cp.installed_solvers())"
   ]
  },
  {
   "cell_type": "code",
   "execution_count": 2,
   "id": "aac85c60-a4fb-4e4b-93b3-f8bf2e5b0768",
   "metadata": {},
   "outputs": [],
   "source": [
    "# Load the data\n",
    "load_data = pd.read_csv('data/CAISO_Load_2022.csv', usecols=['net_load']).values.flatten()\n",
    "thermal_gen_data = pd.read_csv('data/thermal_gen_offer.csv', usecols=['capacity_MW', 'energy_price'])"
   ]
  },
  {
   "cell_type": "code",
   "execution_count": 4,
   "id": "230d8d30-3963-4748-b994-6e896e82cc3f",
   "metadata": {},
   "outputs": [],
   "source": [
    "# Parameters\n",
    "num_days = 365\n",
    "num_steps = 288\n",
    "num_intervals = 12\n",
    "P = 10_000  # Total storage capacity in MW\n",
    "E = 40_000  # Total storage capacity in MWh\n",
    "eta = 0.9  # Storage one-way efficiency\n",
    "C_s = 0.0  # Storage marginal discharge cost\n",
    "\n",
    "# Generator data \n",
    "P_g = thermal_gen_data['capacity_MW'].values # Thermal generator capacities (MW)\n",
    "C_g = thermal_gen_data['energy_price'].values # Thermal generator offer ($/MW)\n",
    "\n",
    "# Storage segment data\n",
    "num_seg = 5\n",
    "\n",
    "# Reshape load data for num_days of num_steps\n",
    "load = load_data[0:num_days*num_steps].reshape((num_days, num_steps)) # Net load profile\n",
    "\n",
    "# Number of generators\n",
    "num_gen = len(P_g)"
   ]
  },
  {
   "cell_type": "code",
   "execution_count": 6,
   "id": "9e557c1f-ee2b-4228-a2b8-39c3aec58378",
   "metadata": {},
   "outputs": [],
   "source": [
    "# Function to solve the optimization problem for a single period\n",
    "def solve_period_optimization(L, P_g, C_g, P, E, eta, C_s, E0, num_intervals, num_seg, soc_bids):\n",
    "    # Variables\n",
    "    p = cp.Variable(num_gen)  # Power generation by each generator\n",
    "    c = cp.Variable(num_seg)             # Power charge by storage\n",
    "    d = cp.Variable(num_seg)             # Power discharge by storage\n",
    "    e = cp.Variable(num_seg)             # State of Charge (SoC) of storage\n",
    "\n",
    "    # Constraints\n",
    "    constraints = []\n",
    "\n",
    "    # Generator capacity constraints\n",
    "    for g in range(num_gen):\n",
    "        constraints += [p[g] >= 0,\n",
    "                        p[g] <= P_g[g]]\n",
    "\n",
    "    # Storage constraints\n",
    "    for s in range(num_seg):\n",
    "        constraints += [c[s] >= 0,\n",
    "                        c[s] <= P / num_seg,\n",
    "                        d[s] >= 0,\n",
    "                        d[s]<= P / num_seg]\n",
    "\n",
    "    # SoC constraints\n",
    "    for s in range(num_seg):\n",
    "        constraints += [e[s] == E0[s] + eta * c[s] - d[s] / eta]\n",
    "        constraints += [e[s] <= E / num_seg]\n",
    "        constraints += [e[s] >= 0]\n",
    "        \n",
    "    # Balance constraints and capture dual variables\n",
    "    balance_constraint = cp.sum(p) + cp.sum(d) == L + cp.sum(c)\n",
    "    constraints += [balance_constraint]\n",
    "\n",
    "    # Objective: Minimize system cost\n",
    "    cost = (cp.sum(cp.multiply(p, C_g.flatten())) +\n",
    "            cp.sum(cp.multiply(E0-e, soc_bids)) +\n",
    "            cp.sum(C_s * d)) / num_intervals\n",
    "    objective = cp.Minimize(cost)\n",
    "\n",
    "    # Problem definition\n",
    "    problem = cp.Problem(objective, constraints)\n",
    "\n",
    "    # Solve the problem using Gurobi if available, otherwise use a different solver\n",
    "    start_time = time.time()\n",
    "    try:\n",
    "        problem.solve(solver=cp.GUROBI, verbose=False, reoptimize=True)\n",
    "        dual_price = balance_constraint.dual_value * -num_intervals  # Extract dual values\n",
    "    except cp.SolverError:\n",
    "        print(\"Gurobi not available. Falling back to a different solver.\")\n",
    "        problem.solve(solver=cp.ECOS, verbose=False)  # You can use ECOS, SCS, or another solve\n",
    "        dual_price = balance_constraint.dual_value  * -num_intervals  # Extract dual values\n",
    "    end_time = time.time()\n",
    "\n",
    "    return problem.value, p.value, c.value, d.value, e.value, dual_price, end_time - start_time"
   ]
  },
  {
   "cell_type": "code",
   "execution_count": 11,
   "id": "d191bdfa-45b8-4c7a-9b80-d3ec8744673f",
   "metadata": {},
   "outputs": [
    {
     "name": "stdout",
     "output_type": "stream",
     "text": [
      "Day 1: Cost = 15792525.42701489, Run Time = 0.9929580688476562 seconds\n"
     ]
    },
    {
     "ename": "ValueError",
     "evalue": "in user code:\n\n    File \"/Users/ningkunzheng/opt/anaconda3/envs/tf/lib/python3.9/site-packages/keras/engine/training.py\", line 2169, in predict_function  *\n        return step_function(self, iterator)\n    File \"/Users/ningkunzheng/opt/anaconda3/envs/tf/lib/python3.9/site-packages/keras/engine/training.py\", line 2155, in step_function  **\n        outputs = model.distribute_strategy.run(run_step, args=(data,))\n    File \"/Users/ningkunzheng/opt/anaconda3/envs/tf/lib/python3.9/site-packages/keras/engine/training.py\", line 2143, in run_step  **\n        outputs = model.predict_step(data)\n    File \"/Users/ningkunzheng/opt/anaconda3/envs/tf/lib/python3.9/site-packages/keras/engine/training.py\", line 2111, in predict_step\n        return self(x, training=False)\n    File \"/Users/ningkunzheng/opt/anaconda3/envs/tf/lib/python3.9/site-packages/keras/utils/traceback_utils.py\", line 70, in error_handler\n        raise e.with_traceback(filtered_tb) from None\n    File \"/Users/ningkunzheng/opt/anaconda3/envs/tf/lib/python3.9/site-packages/keras/engine/input_spec.py\", line 253, in assert_input_compatibility\n        raise ValueError(\n\n    ValueError: Exception encountered when calling layer 'sequential_1' (type Sequential).\n    \n    Input 0 of layer \"dense_3\" is incompatible with the layer: expected min_ndim=2, found ndim=1. Full shape received: (32,)\n    \n    Call arguments received by layer 'sequential_1' (type Sequential):\n      • inputs=tf.Tensor(shape=(32,), dtype=float32)\n      • training=False\n      • mask=None\n",
     "output_type": "error",
     "traceback": [
      "\u001b[0;31m---------------------------------------------------------------------------\u001b[0m",
      "\u001b[0;31mValueError\u001b[0m                                Traceback (most recent call last)",
      "Cell \u001b[0;32mIn[11], line 44\u001b[0m\n\u001b[1;32m     42\u001b[0m \u001b[38;5;28;01melse\u001b[39;00m:\n\u001b[1;32m     43\u001b[0m     \u001b[38;5;28;01mcontinue\u001b[39;00m\n\u001b[0;32m---> 44\u001b[0m v \u001b[38;5;241m=\u001b[39m \u001b[43mmodel\u001b[49m\u001b[38;5;241;43m.\u001b[39;49m\u001b[43mpredict\u001b[49m\u001b[43m(\u001b[49m\u001b[43mdual_prices\u001b[49m\u001b[43m)\u001b[49m\u001b[38;5;241m.\u001b[39mT\n\u001b[1;32m     45\u001b[0m soc_bids \u001b[38;5;241m=\u001b[39m np\u001b[38;5;241m.\u001b[39mmean(v\u001b[38;5;241m.\u001b[39mreshape(num_seg, \u001b[38;5;28mint\u001b[39m(v\u001b[38;5;241m.\u001b[39mshape[\u001b[38;5;241m0\u001b[39m]\u001b[38;5;241m/\u001b[39mnum_seg)), axis\u001b[38;5;241m=\u001b[39m\u001b[38;5;241m1\u001b[39m, keepdims\u001b[38;5;241m=\u001b[39m\u001b[38;5;28;01mTrue\u001b[39;00m)\u001b[38;5;241m.\u001b[39mflatten()\n\u001b[1;32m     46\u001b[0m daily_cost, daily_gen, daily_charge, daily_discharge, daily_soc, dual_price, run_time \u001b[38;5;241m=\u001b[39m solve_period_optimization(L, P_g, C_g, P, E, eta, C_s, E0, num_intervals, num_seg, soc_bids)\n",
      "File \u001b[0;32m~/opt/anaconda3/envs/tf/lib/python3.9/site-packages/keras/utils/traceback_utils.py:70\u001b[0m, in \u001b[0;36mfilter_traceback.<locals>.error_handler\u001b[0;34m(*args, **kwargs)\u001b[0m\n\u001b[1;32m     67\u001b[0m     filtered_tb \u001b[38;5;241m=\u001b[39m _process_traceback_frames(e\u001b[38;5;241m.\u001b[39m__traceback__)\n\u001b[1;32m     68\u001b[0m     \u001b[38;5;66;03m# To get the full stack trace, call:\u001b[39;00m\n\u001b[1;32m     69\u001b[0m     \u001b[38;5;66;03m# `tf.debugging.disable_traceback_filtering()`\u001b[39;00m\n\u001b[0;32m---> 70\u001b[0m     \u001b[38;5;28;01mraise\u001b[39;00m e\u001b[38;5;241m.\u001b[39mwith_traceback(filtered_tb) \u001b[38;5;28;01mfrom\u001b[39;00m \u001b[38;5;28;01mNone\u001b[39;00m\n\u001b[1;32m     71\u001b[0m \u001b[38;5;28;01mfinally\u001b[39;00m:\n\u001b[1;32m     72\u001b[0m     \u001b[38;5;28;01mdel\u001b[39;00m filtered_tb\n",
      "File \u001b[0;32m/var/folders/f2/rxpbf6rd2wjbpqry4k3rs6fr0000gn/T/__autograph_generated_fileixvxfdh4.py:15\u001b[0m, in \u001b[0;36mouter_factory.<locals>.inner_factory.<locals>.tf__predict_function\u001b[0;34m(iterator)\u001b[0m\n\u001b[1;32m     13\u001b[0m \u001b[38;5;28;01mtry\u001b[39;00m:\n\u001b[1;32m     14\u001b[0m     do_return \u001b[38;5;241m=\u001b[39m \u001b[38;5;28;01mTrue\u001b[39;00m\n\u001b[0;32m---> 15\u001b[0m     retval_ \u001b[38;5;241m=\u001b[39m ag__\u001b[38;5;241m.\u001b[39mconverted_call(ag__\u001b[38;5;241m.\u001b[39mld(step_function), (ag__\u001b[38;5;241m.\u001b[39mld(\u001b[38;5;28mself\u001b[39m), ag__\u001b[38;5;241m.\u001b[39mld(iterator)), \u001b[38;5;28;01mNone\u001b[39;00m, fscope)\n\u001b[1;32m     16\u001b[0m \u001b[38;5;28;01mexcept\u001b[39;00m:\n\u001b[1;32m     17\u001b[0m     do_return \u001b[38;5;241m=\u001b[39m \u001b[38;5;28;01mFalse\u001b[39;00m\n",
      "\u001b[0;31mValueError\u001b[0m: in user code:\n\n    File \"/Users/ningkunzheng/opt/anaconda3/envs/tf/lib/python3.9/site-packages/keras/engine/training.py\", line 2169, in predict_function  *\n        return step_function(self, iterator)\n    File \"/Users/ningkunzheng/opt/anaconda3/envs/tf/lib/python3.9/site-packages/keras/engine/training.py\", line 2155, in step_function  **\n        outputs = model.distribute_strategy.run(run_step, args=(data,))\n    File \"/Users/ningkunzheng/opt/anaconda3/envs/tf/lib/python3.9/site-packages/keras/engine/training.py\", line 2143, in run_step  **\n        outputs = model.predict_step(data)\n    File \"/Users/ningkunzheng/opt/anaconda3/envs/tf/lib/python3.9/site-packages/keras/engine/training.py\", line 2111, in predict_step\n        return self(x, training=False)\n    File \"/Users/ningkunzheng/opt/anaconda3/envs/tf/lib/python3.9/site-packages/keras/utils/traceback_utils.py\", line 70, in error_handler\n        raise e.with_traceback(filtered_tb) from None\n    File \"/Users/ningkunzheng/opt/anaconda3/envs/tf/lib/python3.9/site-packages/keras/engine/input_spec.py\", line 253, in assert_input_compatibility\n        raise ValueError(\n\n    ValueError: Exception encountered when calling layer 'sequential_1' (type Sequential).\n    \n    Input 0 of layer \"dense_3\" is incompatible with the layer: expected min_ndim=2, found ndim=1. Full shape received: (32,)\n    \n    Call arguments received by layer 'sequential_1' (type Sequential):\n      • inputs=tf.Tensor(shape=(32,), dtype=float32)\n      • training=False\n      • mask=None\n"
     ]
    }
   ],
   "source": [
    "# Solve for each time step\n",
    "results = []\n",
    "\n",
    "all_daily_costs = []\n",
    "all_gen_output = []\n",
    "all_storage_ops = []\n",
    "all_clearing_prices= []\n",
    "\n",
    "total_start_time = time.time()  # Start time for the entire solving loop\n",
    "\n",
    "model = tf.keras.models.load_model('models/model0.h5')\n",
    "\n",
    "\n",
    "for day in range(num_days):\n",
    "    # solve daily for first day (288 periods) to generate initial price signals\n",
    "    L = load[day, :]\n",
    "    if day == 0:\n",
    "        day = 0\n",
    "        E0 = E / 2\n",
    "        daily_cost, daily_gen, daily_charge, daily_discharge, daily_soc, dual_prices, run_time = solve_daily_optimization(L, P_g, C_g, P, E, eta, C_s, E0, num_intervals)\n",
    "        results.append((daily_cost, daily_gen, daily_charge, daily_discharge, daily_soc))\n",
    "        print(f\"Day {day + 1}: Cost = {daily_cost}, Run Time = {run_time} seconds\")\n",
    "    \n",
    "        # Collect results for each day\n",
    "        all_daily_costs.append({\n",
    "            'day': day + 1,\n",
    "            'cost': daily_cost,\n",
    "            'run_time': run_time\n",
    "        })\n",
    "    \n",
    "        all_gen_output.append(pd.DataFrame(daily_gen, columns=[f'gen_{i+1}' for i in range(num_gen)]))\n",
    "        all_storage_ops.append(pd.DataFrame({\n",
    "            'charge': daily_charge,\n",
    "            'discharge': daily_discharge,\n",
    "            'soc': daily_soc\n",
    "        }))\n",
    "        all_clearing_prices.append(pd.DataFrame({'clearing_price': dual_prices}))\n",
    "    else:\n",
    "        for ts in range(num_steps):\n",
    "            if (day == 1) & (ts == 0):\n",
    "                E0 = [0.2 * E, 0.2 * E, 0.1 * E, 0.0, 0.0]\n",
    "            else:\n",
    "                continue\n",
    "            v = model.predict(dual_prices).T\n",
    "            soc_bids = np.mean(v.reshape(num_seg, int(v.shape[0]/num_seg)), axis=1, keepdims=True).flatten()\n",
    "            daily_cost, daily_gen, daily_charge, daily_discharge, daily_soc, dual_price, run_time = solve_period_optimization(L, P_g, C_g, P, E, eta, C_s, E0, num_intervals, num_seg, soc_bids)\n",
    "\n",
    "\n",
    "total_end_time = time.time()  # End time for the entire solving loop\n",
    "total_run_time = total_end_time - total_start_time\n",
    "\n",
    "print(f\"Total Run Time for all days: {total_run_time} seconds\")\n"
   ]
  },
  {
   "cell_type": "code",
   "execution_count": 59,
   "id": "80063331-7ce8-4d5c-8a0c-1430b507c969",
   "metadata": {},
   "outputs": [
    {
     "data": {
      "text/plain": [
       "<keras.engine.sequential.Sequential at 0x18803b7c0>"
      ]
     },
     "execution_count": 59,
     "metadata": {},
     "output_type": "execute_result"
    }
   ],
   "source": [
    "model = tf.keras.models.load_model('models/model0')\n",
    "model"
   ]
  }
 ],
 "metadata": {
  "kernelspec": {
   "display_name": "Python 3 (ipykernel)",
   "language": "python",
   "name": "python3"
  },
  "language_info": {
   "codemirror_mode": {
    "name": "ipython",
    "version": 3
   },
   "file_extension": ".py",
   "mimetype": "text/x-python",
   "name": "python",
   "nbconvert_exporter": "python",
   "pygments_lexer": "ipython3",
   "version": "3.9.18"
  }
 },
 "nbformat": 4,
 "nbformat_minor": 5
}
